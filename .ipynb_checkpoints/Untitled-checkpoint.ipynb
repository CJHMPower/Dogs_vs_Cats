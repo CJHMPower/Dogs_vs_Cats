{
 "cells": [
  {
   "cell_type": "markdown",
   "metadata": {},
   "source": [
    "# Dogs VS Cats\n",
    "\n",
    "## 项目说明\n",
    "\n",
    "输入：一张RGB图像\n",
    "输出： 类别是猫还是狗\n",
    "\n",
    "## 数据来源\n",
    "\n",
    "Kaggle竞赛项目 [Kaggle dogs vs cats](https://www.kaggle.com/c/dogs-vs-cats-redux-kernels-edition)\n",
    "\n",
    "## 开发环境\n",
    "\n",
    "Linux/Windows10   Python 3.5\n",
    "\n",
    "### Dependencies:\n",
    " tensorflow 1.0.0\n",
    " \n",
    " keras 2.0.6\n",
    " \n",
    " \n",
    " ## 模型结果：\n",
    " \n",
    "\n",
    "![models](imgs/img15.png)"
   ]
  },
  {
   "cell_type": "code",
   "execution_count": null,
   "metadata": {
    "collapsed": true
   },
   "outputs": [],
   "source": []
  }
 ],
 "metadata": {
  "kernelspec": {
   "display_name": "Python 3",
   "language": "python",
   "name": "python3"
  },
  "language_info": {
   "codemirror_mode": {
    "name": "ipython",
    "version": 3
   },
   "file_extension": ".py",
   "mimetype": "text/x-python",
   "name": "python",
   "nbconvert_exporter": "python",
   "pygments_lexer": "ipython3",
   "version": "3.5.3"
  }
 },
 "nbformat": 4,
 "nbformat_minor": 2
}
